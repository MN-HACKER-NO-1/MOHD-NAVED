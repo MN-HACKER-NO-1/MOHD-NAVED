{
 "cells": [
  {
   "cell_type": "code",
   "execution_count": 3,
   "metadata": {},
   "outputs": [
    {
     "data": {
      "text/plain": [
       "(221, b'2.0.0 closing connection s206sm67494527pfs.100 - gsmtp')"
      ]
     },
     "execution_count": 3,
     "metadata": {},
     "output_type": "execute_result"
    }
   ],
   "source": [
    "import smtplib\n",
    "from email.message import EmailMessage\n",
    "email=EmailMessage()\n",
    "email['Subject']='Test Email'\n",
    "email['From']='mohammadnaved1351@gmail.com'\n",
    "email['To']='mohammadnaved1352@gmail.com'\n",
    "content='yehh this is test of smtplib libarry'\n",
    "email.set_content(content)\n",
    "smtp_connector=smtplib.SMTP('smtp.gmail.com',port=587)\n",
    "smtp_connector.starttls()\n",
    "smtp_connector.login('mohammadnaved1351@gmail.com','GoogleGolden@123')\n",
    "smtp_connector.send_message(email)\n",
    "smtp_connector.quit()"
   ]
  },
  {
   "cell_type": "code",
   "execution_count": null,
   "metadata": {},
   "outputs": [],
   "source": []
  }
 ],
 "metadata": {
  "kernelspec": {
   "display_name": "Python 3",
   "language": "python",
   "name": "python3"
  },
  "language_info": {
   "codemirror_mode": {
    "name": "ipython",
    "version": 3
   },
   "file_extension": ".py",
   "mimetype": "text/x-python",
   "name": "python",
   "nbconvert_exporter": "python",
   "pygments_lexer": "ipython3",
   "version": "3.7.4"
  }
 },
 "nbformat": 4,
 "nbformat_minor": 2
}
