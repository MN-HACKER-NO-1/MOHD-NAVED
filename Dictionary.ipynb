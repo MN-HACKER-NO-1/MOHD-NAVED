{
 "cells": [
  {
   "cell_type": "code",
   "execution_count": null,
   "metadata": {},
   "outputs": [],
   "source": [
    "dictionari={'key1':'this is value of key1','key2':'this is the value of key2','key3':'this is the vlue of key3','key4':45}\n",
    "print(dictionari)\n",
    "print(dictionari['key1'])\n",
    "print(dictionari['key2'])\n",
    "print(dictionari['key3'])\n",
    "print(dictionari['key4'])\n",
    "dictionari['key4']='this is the value of key4'\n",
    "print(dictionari)\n",
    "del dictionari['key2']\n",
    "del dictionari['key3']\n",
    "print(dictionari)\n",
    "del dictionari\n",
    "dictionari={'key1':10,'key2':20,'key3':30,'key4':40}\n",
    "print(dictionari)\n",
    "dictionari.clear()\n",
    "print(dictionari)\n",
    "dictionari={'key1':100,'key2':200,'key3':300,'key4':400}\n",
    "while True:\n",
    "    key=input('enter the key')\n",
    "    if key=='quit':\n",
    "        break\n",
    "    if key in dictionari:\n",
    "        key_value=dictionari.get(key)\n",
    "        print(key_value)\n",
    "    else:\n",
    "        print(f'{key} does not exist in dictionari')"
   ]
  },
  {
   "cell_type": "code",
   "execution_count": 4,
   "metadata": {},
   "outputs": [
    {
     "name": "stdout",
     "output_type": "stream",
     "text": [
      "100\n",
      "200\n",
      "300\n",
      "400\n"
     ]
    }
   ],
   "source": [
    "dictionari={'key1':100,'key2':200,'key3':300,'key4':400}\n",
    "for key in dictionari:\n",
    "    print(dictionari[key])"
   ]
  },
  {
   "cell_type": "code",
   "execution_count": 19,
   "metadata": {},
   "outputs": [
    {
     "name": "stdout",
     "output_type": "stream",
     "text": [
      "{'key1': 100, 'key2': 200, 'key3': 300, 'key4': 400, 'key5': 500, 'key6': 600, 'key7': 700}\n",
      "700\n",
      "\n",
      "600\n",
      "\n",
      "500\n",
      "\n",
      "400\n",
      "\n",
      "300\n",
      "\n",
      "200\n",
      "\n",
      "100\n",
      "\n",
      "100\n",
      "\n",
      "200\n",
      "\n",
      "300\n",
      "\n",
      "400\n",
      "\n",
      "500\n",
      "\n",
      "600\n",
      "\n",
      "700\n",
      "\n",
      "key1\n",
      "100\n",
      "key2\n",
      "200\n",
      "key3\n",
      "300\n",
      "key4\n",
      "400\n",
      "key5\n",
      "500\n",
      "key6\n",
      "600\n",
      "key7\n",
      "700\n"
     ]
    }
   ],
   "source": [
    "dictionari={'key1':100,'key2':200,'key3':300,'key4':400,'key5':500,'key6':600,'key7':700}\n",
    "print(dictionari)\n",
    "ordered_key=sorted(list(dictionari.keys()),reverse=True)  #use of .keys() methode\n",
    "for i in ordered_key:\n",
    "    print(dictionari[i],end='\\n')\n",
    "    print()\n",
    "for val in dictionari.values(): # use of .values() methode\n",
    "    print(val)\n",
    "    print()\n",
    "for key in dictionari.keys():\n",
    "    print(key)\n",
    "    print(dictionari[key])"
   ]
  },
  {
   "cell_type": "code",
   "execution_count": 30,
   "metadata": {},
   "outputs": [
    {
     "name": "stdout",
     "output_type": "stream",
     "text": [
      "dict_keys(['key1', 'key2', 'key3', 'key4', 'key5', 'key6', 'key7'])\n",
      "dict_values([100, 200, 300, 400, 500, 600, 700])\n",
      "dict_items([('key1', 100), ('key2', 200), ('key3', 300), ('key4', 400), ('key5', 500), ('key6', 600), ('key7', 700)])\n",
      "key1 100\n",
      "key2 200\n",
      "key3 300\n",
      "key4 400\n",
      "key5 500\n",
      "key6 600\n",
      "key7 700\n",
      "{'key1': 100, 'key2': 200, 'key3': 300, 'key4': 400, 'key5': 500, 'key6': 600, 'key7': 700}\n"
     ]
    }
   ],
   "source": [
    "print(dictionari.keys())   #use of .keys() methode  to fetch the key in dict\n",
    "print(dictionari.values()) #use of .values() mathode  to fetch the value in dict\n",
    "dict_tuple=dictionari.items()\n",
    "print(dict_tuple)\n",
    "for pair in dict_tuple:\n",
    "    key,value=pair\n",
    "    print(key,value)\n",
    "print(dict(dict_tuple))"
   ]
  },
  {
   "cell_type": "code",
   "execution_count": 36,
   "metadata": {},
   "outputs": [
    {
     "name": "stdout",
     "output_type": "stream",
     "text": [
      "ais this bis this c\n"
     ]
    }
   ],
   "source": [
    "list=['a','b','c']\n",
    "string='is this '\n",
    "string=string.join(list)\n",
    "print(string)"
   ]
  },
  {
   "cell_type": "code",
   "execution_count": 35,
   "metadata": {},
   "outputs": [
    {
     "name": "stdout",
     "output_type": "stream",
     "text": [
      "aais this abcbis this abccbais this abcbis this abccc\n"
     ]
    }
   ],
   "source": [
    "# use of .join method\n",
    "string=string.join(list)\n",
    "print(string)"
   ]
  },
  {
   "cell_type": "code",
   "execution_count": 43,
   "metadata": {},
   "outputs": [
    {
     "name": "stdout",
     "output_type": "stream",
     "text": [
      "dict_keys(['key1', 'key2', 'key3'])\n",
      "key1,key2,key3\n"
     ]
    }
   ],
   "source": [
    "# use of .join method\n",
    "list=[{'key1':1,'key2':2,'key3':3},{'key4':4,'key5':5,'key6':6},{'key7':7,'key8':8,'key9':9}]\n",
    "a=list[0].keys()\n",
    "print(a)\n",
    "key_list=','.join(a)\n",
    "print(key_list)"
   ]
  },
  {
   "cell_type": "code",
   "execution_count": 1,
   "metadata": {},
   "outputs": [
    {
     "name": "stdout",
     "output_type": "stream",
     "text": [
      "{'key1': 100, 'key2': 200, 'key3': 300, 'key4': 400, 'key5': 500, 'key6': 600, 'key7': 700}\n"
     ]
    }
   ],
   "source": [
    "#how to update our dictionari\n",
    "dictionari={'key1':100,'key2':200,'key3':300,'key4':400,'key5':500}\n",
    "other_dictionari={'key6':600,'key7':700}\n",
    "dictionari.update(other_dictionari)\n",
    "print(dictionari)\n"
   ]
  },
  {
   "cell_type": "code",
   "execution_count": 2,
   "metadata": {},
   "outputs": [],
   "source": [
    "# use of copy methode in dictinoari\n",
    "new_dict=dictionari.copy()"
   ]
  },
  {
   "cell_type": "code",
   "execution_count": 5,
   "metadata": {},
   "outputs": [],
   "source": [
    "new_dict.update({'key8':800,'key9':900})"
   ]
  },
  {
   "cell_type": "code",
   "execution_count": 8,
   "metadata": {},
   "outputs": [
    {
     "name": "stdout",
     "output_type": "stream",
     "text": [
      "{'key1': 100, 'key2': 200, 'key3': 300, 'key4': 400, 'key5': 500, 'key6': 600, 'key7': 700, 'key8': 800}\n",
      "{'key1': 100, 'key2': 200, 'key3': 300, 'key4': 400, 'key5': 500, 'key6': 600, 'key7': 700, 'key8': 800, 'key9': 900}\n"
     ]
    }
   ],
   "source": [
    "print(dictionari)\n",
    "print(new_dict)"
   ]
  },
  {
   "cell_type": "code",
   "execution_count": null,
   "metadata": {},
   "outputs": [],
   "source": []
  }
 ],
 "metadata": {
  "kernelspec": {
   "display_name": "Python 3",
   "language": "python",
   "name": "python3"
  },
  "language_info": {
   "codemirror_mode": {
    "name": "ipython",
    "version": 3
   },
   "file_extension": ".py",
   "mimetype": "text/x-python",
   "name": "python",
   "nbconvert_exporter": "python",
   "pygments_lexer": "ipython3",
   "version": "3.7.4"
  }
 },
 "nbformat": 4,
 "nbformat_minor": 1
}
