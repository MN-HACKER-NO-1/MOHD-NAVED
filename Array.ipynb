{
 "cells": [
  {
   "cell_type": "code",
   "execution_count": 8,
   "metadata": {},
   "outputs": [
    {
     "name": "stdout",
     "output_type": "stream",
     "text": [
      "12\n",
      "14\n",
      "16\n",
      "18\n",
      "20\n"
     ]
    }
   ],
   "source": [
    "import array    #this methode import the entire module of array\n",
    "#syntax of this methode to create an array\n",
    "#array_name=array.array('type_code',[elements])\n",
    "    # /        \\Module_name.Class_name \n",
    "#object array class\n",
    "array_name=array.array('i',[12,14,16,18,20])\n",
    "print(array_name[0])\n",
    "print(array_name[1])\n",
    "print(array_name[2])\n",
    "print(array_name[3])\n",
    "print(array_name[4])"
   ]
  },
  {
   "cell_type": "code",
   "execution_count": 10,
   "metadata": {},
   "outputs": [
    {
     "name": "stdout",
     "output_type": "stream",
     "text": [
      "11\n",
      "13\n",
      "15\n",
      "17\n",
      "19\n"
     ]
    }
   ],
   "source": [
    "from array import*\n",
    "array_name=array('i',[11,13,15,17,19])\n",
    "             #\\class name\n",
    "print(array_name[0])\n",
    "print(array_name[1])\n",
    "print(array_name[2])\n",
    "print(array_name[3])\n",
    "print(array_name[4])"
   ]
  },
  {
   "cell_type": "code",
   "execution_count": 11,
   "metadata": {},
   "outputs": [
    {
     "name": "stdout",
     "output_type": "stream",
     "text": [
      "1.0\n",
      "3.0\n",
      "5.0\n",
      "7.0\n",
      "9.0\n"
     ]
    }
   ],
   "source": [
    "import array as ar  #here we giving a short name of array to ar\n",
    "array_name=ar.array('f',[1,3,5,7,9])  #here inplicit type conversion\n",
    "print(array_name[0])\n",
    "print(array_name[1])\n",
    "print(array_name[2])\n",
    "print(array_name[3])\n",
    "print(array_name[4])"
   ]
  },
  {
   "cell_type": "code",
   "execution_count": 12,
   "metadata": {},
   "outputs": [
    {
     "name": "stdout",
     "output_type": "stream",
     "text": [
      "10\n",
      "20\n",
      "30\n",
      "40\n",
      "50\n",
      "60\n"
     ]
    }
   ],
   "source": [
    "#accesing array using for loop with out indexing\n",
    "from array import*\n",
    "stu_roll=array('i',[10,20,30,40,50,60])\n",
    "for element in stu_roll:\n",
    "    print(element)"
   ]
  },
  {
   "cell_type": "code",
   "execution_count": 21,
   "metadata": {},
   "outputs": [
    {
     "name": "stdout",
     "output_type": "stream",
     "text": [
      "index 0 = 95.4000015258789\n",
      "index 1 = 97.0\n",
      "index 2 = 93.0\n",
      "index 3 = 92.44999694824219\n",
      "index 4 = 91.0\n",
      "index 5 = 90.55999755859375\n"
     ]
    }
   ],
   "source": [
    "#Accesing  array using for loop with the help of indexing\n",
    "from array import*\n",
    "stu_per=array('f',[95.4,97,93,92.45,91,90.56]) # here implicit type covesion\n",
    "for i in range(len(stu_per)):\n",
    "    print('index',i,'=',stu_per[i])"
   ]
  },
  {
   "cell_type": "code",
   "execution_count": 36,
   "metadata": {},
   "outputs": [
    {
     "name": "stdout",
     "output_type": "stream",
     "text": [
      "5\n",
      "10\n",
      "15\n",
      "20\n",
      "25\n",
      "30\n"
     ]
    }
   ],
   "source": [
    "#Accessing Array using while loop\n",
    "from array import*\n",
    "array_name=array('i',[5,10,15,20,25,30])\n",
    "j=0\n",
    "n=len(array_name)\n",
    "while j<n:\n",
    "    print(array_name[j])\n",
    "    j+=1"
   ]
  },
  {
   "cell_type": "code",
   "execution_count": 91,
   "metadata": {},
   "outputs": [
    {
     "name": "stdout",
     "output_type": "stream",
     "text": [
      "Before appending the array\n",
      "401\n",
      "402\n",
      "403\n",
      "405\n",
      "406\n",
      "After appending the array\n",
      "401\n",
      "402\n",
      "403\n",
      "405\n",
      "406\n",
      "407\n",
      "408\n"
     ]
    }
   ],
   "source": [
    "# append methode in array\n",
    "from array import*\n",
    "college_codes=array('i',[401,402,403,405,406])\n",
    "n=len(college_codes)\n",
    "i=0\n",
    "print(\"Before appending the array\")\n",
    "while i<n:\n",
    "    print(college_codes[i])\n",
    "    i+=1\n",
    "print(\"After appending the array\")\n",
    "college_codes.append(407)\n",
    "college_codes.append(408)\n",
    "n=len(college_codes)\n",
    "i=0\n",
    "while i<n:\n",
    "    print(college_codes[i])\n",
    "    i+=1"
   ]
  },
  {
   "cell_type": "code",
   "execution_count": 92,
   "metadata": {},
   "outputs": [
    {
     "data": {
      "text/plain": [
       "3"
      ]
     },
     "execution_count": 92,
     "metadata": {},
     "output_type": "execute_result"
    }
   ],
   "source": [
    "# use of count methode to count the same ele which whic are given count methode\n",
    "from array import*\n",
    "college_codes=array('i',[401,402,403,405,406,401,402,401,403,404])\n",
    "college_codes.count(401)\n"
   ]
  },
  {
   "cell_type": "code",
   "execution_count": 93,
   "metadata": {},
   "outputs": [
    {
     "data": {
      "text/plain": [
       "0"
      ]
     },
     "execution_count": 93,
     "metadata": {},
     "output_type": "execute_result"
    }
   ],
   "source": [
    "# use of index methode for determine the index value of any element\n",
    "college_codes.index(401)"
   ]
  },
  {
   "cell_type": "code",
   "execution_count": 94,
   "metadata": {},
   "outputs": [
    {
     "name": "stdout",
     "output_type": "stream",
     "text": [
      "before insert the value  array\n",
      "array('i', [401, 402, 403, 405, 406, 401, 402, 401, 403, 404])\n",
      "after insert the value array\n",
      "array('i', [401, 402, 409, 403, 405, 406, 401, 402, 401, 403, 404])\n"
     ]
    }
   ],
   "source": [
    "# use of insert methode\n",
    "#syntax==array_name.insert(index-number,value)\n",
    "print(\"before insert the value  array\")\n",
    "print(college_codes)\n",
    "print(\"after insert the value array\")\n",
    "college_codes.insert(2,409)\n",
    "print(college_codes)"
   ]
  },
  {
   "cell_type": "code",
   "execution_count": 95,
   "metadata": {},
   "outputs": [
    {
     "data": {
      "text/plain": [
       "404"
      ]
     },
     "execution_count": 95,
     "metadata": {},
     "output_type": "execute_result"
    }
   ],
   "source": [
    "# use of pop methode\n",
    "#syntax==array_name.pop()\n",
    "college_codes.pop()"
   ]
  },
  {
   "cell_type": "code",
   "execution_count": 96,
   "metadata": {},
   "outputs": [
    {
     "name": "stdout",
     "output_type": "stream",
     "text": [
      "array('i', [402, 409, 403, 405, 406, 401, 402, 401, 403])\n"
     ]
    }
   ],
   "source": [
    "#use of remove methode\n",
    "#syntax==array-name.remove(array_element)\n",
    "college_codes.remove(401)\n",
    "print(college_codes)"
   ]
  },
  {
   "cell_type": "code",
   "execution_count": 97,
   "metadata": {},
   "outputs": [
    {
     "name": "stdout",
     "output_type": "stream",
     "text": [
      "array('i', [402, 409, 403, 405, 406, 401, 402, 401, 403])\n"
     ]
    }
   ],
   "source": [
    "#use of reverse methode\n",
    "#syntax==array_name.reverse\n",
    "college_codes.reverse\n",
    "print(college_codes)"
   ]
  },
  {
   "cell_type": "code",
   "execution_count": 98,
   "metadata": {},
   "outputs": [
    {
     "name": "stdout",
     "output_type": "stream",
     "text": [
      "before extend the array\n",
      "array('i', [402, 409, 403, 405, 406, 401, 402, 401, 403])\n",
      "after extend the array\n",
      "array('i', [402, 409, 403, 405, 406, 401, 402, 401, 403, 301, 302, 303])\n"
     ]
    }
   ],
   "source": [
    "#use of extend methode \n",
    "#syntax==oldarray_name.extend(new_array)\n",
    "print(\"before extend the array\")\n",
    "print(college_codes)\n",
    "new=array('i',[301,302,303])\n",
    "college_codes.extend(new)\n",
    "print(\"after extend the array\")\n",
    "print(college_codes)"
   ]
  },
  {
   "cell_type": "code",
   "execution_count": 108,
   "metadata": {},
   "outputs": [
    {
     "name": "stdout",
     "output_type": "stream",
     "text": [
      "how many elements you want to input in the array5\n",
      "enter 0th element1\n",
      "enter 1th element2\n",
      "enter 2th element3\n",
      "enter 3th element4\n",
      "enter 4th element5\n",
      "array('i', [1, 2, 3, 4, 5])\n"
     ]
    }
   ],
   "source": [
    "#getting input in array using for loop\n",
    "from array import*\n",
    "arr=array('i',[])\n",
    "n=int(input(\"how many elements you want to input in the array\"))\n",
    "for i in range(n):\n",
    "    ele=int(input(f'enter {i}th element'))\n",
    "    arr.append(ele)\n",
    "print(arr)"
   ]
  },
  {
   "cell_type": "code",
   "execution_count": 1,
   "metadata": {},
   "outputs": [
    {
     "name": "stdout",
     "output_type": "stream",
     "text": [
      "how many elements you want to input in the array5\n",
      "enter 0th element6\n",
      "enter 1th element7\n",
      "enter 2th element8\n",
      "enter 3th element9\n",
      "enter 4th element10\n",
      "array('i', [6, 7, 8, 9, 10])\n"
     ]
    }
   ],
   "source": [
    "# use of append methode in array\n",
    "#syntax==array_name.append(element)\n",
    "#it add the element last of the array\n",
    "from array import*\n",
    "arr=array('i',[])\n",
    "n=int(input(\"how many elements you want to input in the array\"))\n",
    "i=0\n",
    "while i<n:\n",
    "    ele=int(input(f'enter {i}th element'))\n",
    "    arr.append(ele)\n",
    "    i+=1\n",
    "print(arr)"
   ]
  },
  {
   "cell_type": "code",
   "execution_count": 5,
   "metadata": {},
   "outputs": [
    {
     "name": "stdout",
     "output_type": "stream",
     "text": [
      "Enter the length of array4\n",
      "ener the the element1\n",
      "ener the the element2\n",
      "ener the the element3\n",
      "ener the the element4\n",
      "array('i', [1, 2, 3, 4])\n"
     ]
    }
   ],
   "source": [
    "from array import*\n",
    "arr=array('i',[])\n",
    "n=int(input(\"Enter the length of array\"))\n",
    "for i in range(n):\n",
    "    ele=int(input(\"ener the the element\"))\n",
    "    arr.append(ele)\n",
    "print(arr)"
   ]
  },
  {
   "cell_type": "code",
   "execution_count": 3,
   "metadata": {},
   "outputs": [
    {
     "ename": "SyntaxError",
     "evalue": "invalid syntax (<ipython-input-3-fcfa1f8505d5>, line 13)",
     "output_type": "error",
     "traceback": [
      "\u001b[1;36m  File \u001b[1;32m\"<ipython-input-3-fcfa1f8505d5>\"\u001b[1;36m, line \u001b[1;32m13\u001b[0m\n\u001b[1;33m    j+=1'''\u001b[0m\n\u001b[1;37m           \n^\u001b[0m\n\u001b[1;31mSyntaxError\u001b[0m\u001b[1;31m:\u001b[0m invalid syntax\n"
     ]
    }
   ],
   "source": [
    "#getting input using while loop\n",
    "from array import*\n",
    "arr=array('i',[])\n",
    "n=int(input(\"enter the length of array\")\n",
    "'''i=0\n",
    "while i<n: \n",
    "    ele=int(input(\"ener the the element\"))\n",
    "    arr.append(ele)\n",
    "      i+=1\n",
    "j=0\n",
    "whiel j<n:\n",
    "      print(arr[j])\n",
    "      j+=1'''"
   ]
  },
  {
   "cell_type": "code",
   "execution_count": 2,
   "metadata": {},
   "outputs": [
    {
     "name": "stdout",
     "output_type": "stream",
     "text": [
      "Enter the length of array4\n",
      "ener the the element1\n",
      "ener the the element2\n",
      "ener the the element3\n",
      "ener the the element4\n",
      "1\n",
      "2\n",
      "3\n",
      "4\n"
     ]
    }
   ],
   "source": [
    "from array import*\n",
    "arr=array('i',[])\n",
    "n=int(input(\"Enter the length of array\"))\n",
    "i=0\n",
    "while i<n: \n",
    "    ele=int(input(\"ener the the element\"))\n",
    "    arr.append(ele)\n",
    "    i+=1\n",
    "j=0\n",
    "while j<n:\n",
    "      print(arr[j])\n",
    "      j+=1"
   ]
  },
  {
   "cell_type": "code",
   "execution_count": 20,
   "metadata": {},
   "outputs": [
    {
     "name": "stdout",
     "output_type": "stream",
     "text": [
      "array('i', [1, 2, 3, 4, 5, 6, 7, 8, 9])\n",
      "array('i', [1, 3, 5, 7, 9])\n",
      "array('i', [2, 4, 6, 8])\n",
      "*****************************************************************\n",
      "array('i', [1, 2, 3, 4, 5, 6, 7, 8, 9, 10])\n",
      "array('i', [6, 8, 10])\n",
      "array('i', [1, 4, 7])\n"
     ]
    }
   ],
   "source": [
    "#Slicing on Arrays in Python\n",
    "from array import*\n",
    "arr=array('i',[1,2,3,4,5,6,7,8,9,10])\n",
    "print(arr[0:9:1])\n",
    "print(arr[0:9:2])\n",
    "print(arr[1:9:2])\n",
    "print(\"*****************************************************************\")\n",
    "print(arr[-10:])\n",
    "print(arr[-5::2])\n",
    "print(arr[:-1:3])\n"
   ]
  },
  {
   "cell_type": "code",
   "execution_count": null,
   "metadata": {},
   "outputs": [],
   "source": []
  }
 ],
 "metadata": {
  "kernelspec": {
   "display_name": "Python 3",
   "language": "python",
   "name": "python3"
  },
  "language_info": {
   "codemirror_mode": {
    "name": "ipython",
    "version": 3
   },
   "file_extension": ".py",
   "mimetype": "text/x-python",
   "name": "python",
   "nbconvert_exporter": "python",
   "pygments_lexer": "ipython3",
   "version": "3.7.4"
  }
 },
 "nbformat": 4,
 "nbformat_minor": 2
}
