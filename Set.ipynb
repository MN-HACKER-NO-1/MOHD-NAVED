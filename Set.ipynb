{
 "cells": [
  {
   "cell_type": "code",
   "execution_count": 11,
   "metadata": {},
   "outputs": [
    {
     "name": "stdout",
     "output_type": "stream",
     "text": [
      "{'d', 'b', 'a', 'c'}\n",
      "{'h', 'e', 'f', 'g'}\n"
     ]
    }
   ],
   "source": [
    "# there are two methode for represent the sets or declare\n",
    "set_A={'a','b','c','d'}\n",
    "set_B=set(['e','f','g','h'])\n",
    "print(set_A)\n",
    "print(set_B)"
   ]
  },
  {
   "cell_type": "code",
   "execution_count": 10,
   "metadata": {},
   "outputs": [
    {
     "name": "stdout",
     "output_type": "stream",
     "text": [
      "d\n",
      "b\n",
      "a\n",
      "c\n",
      "h\n",
      "e\n",
      "f\n",
      "g\n"
     ]
    }
   ],
   "source": [
    "# iteration on set element \n",
    "# the is unrdered fr this reson it does not follow indexing\n",
    "for i in set_A:\n",
    "    print(i)\n",
    "for j in set_B:\n",
    "    print(j)"
   ]
  },
  {
   "cell_type": "code",
   "execution_count": 18,
   "metadata": {},
   "outputs": [
    {
     "name": "stdout",
     "output_type": "stream",
     "text": [
      "{'c', 'd', 'b', 'a', 'g', 'navedjabved', 'f', 'naved', 'h', 'e'}\n"
     ]
    }
   ],
   "source": [
    "# hw to update set element\n",
    "set_A.add('naved''jabved')\n",
    "set_A.update(set_B)\n",
    "print(set_A)"
   ]
  },
  {
   "cell_type": "code",
   "execution_count": 24,
   "metadata": {},
   "outputs": [],
   "source": [
    "set_A.add('adsahs')"
   ]
  },
  {
   "cell_type": "code",
   "execution_count": 25,
   "metadata": {},
   "outputs": [
    {
     "name": "stdout",
     "output_type": "stream",
     "text": [
      "{'adsahs', 'c', 'd', 'b', 'a', 'g', 'navedjabved', 'f', 's', 'naved', 'h', 'e'}\n"
     ]
    }
   ],
   "source": [
    "print(set_A)"
   ]
  },
  {
   "cell_type": "code",
   "execution_count": 29,
   "metadata": {},
   "outputs": [
    {
     "name": "stdout",
     "output_type": "stream",
     "text": [
      "{'mohd'}\n"
     ]
    },
    {
     "ename": "AttributeError",
     "evalue": "'dict' object has no attribute 'add'",
     "output_type": "error",
     "traceback": [
      "\u001b[1;31m---------------------------------------------------------------------------\u001b[0m",
      "\u001b[1;31mAttributeError\u001b[0m                            Traceback (most recent call last)",
      "\u001b[1;32m<ipython-input-29-eeae4a46440e>\u001b[0m in \u001b[0;36m<module>\u001b[1;34m\u001b[0m\n\u001b[0;32m      4\u001b[0m \u001b[0mempty_A\u001b[0m\u001b[1;33m.\u001b[0m\u001b[0madd\u001b[0m\u001b[1;33m(\u001b[0m\u001b[1;34m'mohd'\u001b[0m\u001b[1;33m)\u001b[0m\u001b[1;33m\u001b[0m\u001b[1;33m\u001b[0m\u001b[0m\n\u001b[0;32m      5\u001b[0m \u001b[0mprint\u001b[0m\u001b[1;33m(\u001b[0m\u001b[0mempty_A\u001b[0m\u001b[1;33m)\u001b[0m\u001b[1;33m\u001b[0m\u001b[1;33m\u001b[0m\u001b[0m\n\u001b[1;32m----> 6\u001b[1;33m \u001b[0mempty_B\u001b[0m\u001b[1;33m.\u001b[0m\u001b[0madd\u001b[0m\u001b[1;33m(\u001b[0m\u001b[1;34m'NAVED'\u001b[0m\u001b[1;33m)\u001b[0m\u001b[1;33m\u001b[0m\u001b[1;33m\u001b[0m\u001b[0m\n\u001b[0m\u001b[0;32m      7\u001b[0m \u001b[0mprint\u001b[0m\u001b[1;33m(\u001b[0m\u001b[0mempty_B\u001b[0m\u001b[1;33m)\u001b[0m\u001b[1;33m\u001b[0m\u001b[1;33m\u001b[0m\u001b[0m\n",
      "\u001b[1;31mAttributeError\u001b[0m: 'dict' object has no attribute 'add'"
     ]
    }
   ],
   "source": [
    "# what is right methode to create a empty set or set\n",
    "empty_A=set()\n",
    "empty_B={}\n",
    "empty_A.add('mohd')\n",
    "print(empty_A)\n",
    "empty_B.add('NAVED')  # ON THIS LINE GIVE THE EEROR BECAUSE SET empty_A is not created\n",
    "print(empty_B)"
   ]
  },
  {
   "cell_type": "code",
   "execution_count": 35,
   "metadata": {},
   "outputs": [
    {
     "name": "stdout",
     "output_type": "stream",
     "text": [
      "{0, 2, 4, 6, 8}\n",
      "{1, 3, 5, 7, 9}\n",
      "{0, 1, 2, 3, 4, 5, 6, 7, 8, 9}\n",
      "\n",
      "{1, 4, 6}\n",
      "{1, 4, 6}\n",
      "\n",
      "{8, 2, 7}\n",
      "{8, 2, 7}\n"
     ]
    }
   ],
   "source": [
    "# operation on set\n",
    "even_set=set(range(0,10,2))\n",
    "odd_set=set(range(1,10,2))\n",
    "print(even_set)\n",
    "print(odd_set)\n",
    "print(even_set.union(odd_set))    #union operation use in this program\n",
    "print()\n",
    "set_A={1,2,4,6,7,8,}\n",
    "set_B={1,4,6}\n",
    "print(set_A.intersection(set_B))  # HERE ARE TWO METHODE FOR INTERSECTION\n",
    "print(set_A&set_B)\n",
    "print()\n",
    "print(set_A.difference(set_B))    # HERE ARE TWO METHODE FOR DIFFRENCE\n",
    "print(set_A-set_B)"
   ]
  },
  {
   "cell_type": "code",
   "execution_count": null,
   "metadata": {},
   "outputs": [],
   "source": [
    "A=[1,5,4,2,8,0]\n",
    "B={2,6,7,5}"
   ]
  }
 ],
 "metadata": {
  "kernelspec": {
   "display_name": "Python 3",
   "language": "python",
   "name": "python3"
  },
  "language_info": {
   "codemirror_mode": {
    "name": "ipython",
    "version": 3
   },
   "file_extension": ".py",
   "mimetype": "text/x-python",
   "name": "python",
   "nbconvert_exporter": "python",
   "pygments_lexer": "ipython3",
   "version": "3.7.4"
  }
 },
 "nbformat": 4,
 "nbformat_minor": 2
}
