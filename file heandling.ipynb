{
 "cells": [
  {
   "cell_type": "code",
   "execution_count": 3,
   "metadata": {},
   "outputs": [
    {
     "name": "stdout",
     "output_type": "stream",
     "text": [
      "hey naved how are you doing\n",
      "\n",
      "now this time what is your job location\n",
      "\n",
      "what is your job pacakge\n",
      "\n"
     ]
    }
   ],
   "source": [
    "# how to open file which are exist in diffrent dictrectroy\n",
    "#int is methode we use the three setp\n",
    "#1-file opening\n",
    "#2-file reading\n",
    "#3-file closing\n",
    "#in this methode file closing is very becuse if do not close any then those \n",
    "#file can cuurrupet for this reason file clossing is very importtant when are\n",
    "#reading the file as wel as updatting the file\n",
    "#note--but a good programmar does not use this methode to open the file\n",
    "#a good programmar select the with open() methode\n",
    "f=open(r'C:\\Users\\Mohd Naved\\sample.txt')\n",
    "for i in f:\n",
    "    print(i)\n",
    "f.close()"
   ]
  },
  {
   "cell_type": "code",
   "execution_count": 4,
   "metadata": {},
   "outputs": [
    {
     "name": "stdout",
     "output_type": "stream",
     "text": [
      "hey naved how are you doing\n",
      "\n",
      "now this time what is your job location\n",
      "\n",
      "what is your job pacakge\n",
      "\n"
     ]
    }
   ],
   "source": [
    "# here we are using the second methode for opeing the file this methode name is\n",
    "#with open in this methode no need to close the file at the time of reading the \n",
    "#file as well as updating the file\n",
    "#in this methode we use diffrent diffrent technics for read the file\n",
    "#1-file.read()\n",
    "#2-file.readline()\n",
    "#3-file.readlines()\n",
    "with open(r'C:\\Users\\Mohd Naved\\sample.txt') as file:\n",
    "    for line in file:\n",
    "        print(line)"
   ]
  },
  {
   "cell_type": "code",
   "execution_count": 2,
   "metadata": {},
   "outputs": [
    {
     "name": "stdout",
     "output_type": "stream",
     "text": [
      "hey naved how are you doing\n",
      "\n",
      "now this time what is your job location\n",
      "\n",
      "what is your job pacakge\n",
      "\n"
     ]
    }
   ],
   "source": [
    "# here we using the file.readline() technics in this technics read the file line\n",
    "# and store the vaiable then print variable then again read the new line \n",
    "#from the file then print when the file line does not contain any data then it \n",
    "#retun the 0(zero) and loop close otherwise loops countinue work\n",
    "with open(r'C:\\Users\\Mohd Naved\\sample.txt') as file:\n",
    "    line=file.readline()\n",
    "    while line:\n",
    "        print(line)\n",
    "        line=file.readline()"
   ]
  },
  {
   "cell_type": "code",
   "execution_count": 11,
   "metadata": {},
   "outputs": [
    {
     "name": "stdout",
     "output_type": "stream",
     "text": [
      "hey naved how are you doing\n",
      "\n",
      "now this time what is your job location\n",
      "\n",
      "what is your job pacakge\n",
      "\n"
     ]
    }
   ],
   "source": [
    "# file.readlines() read the all lines of the file and the store the a variable\n",
    "with open(r'C:\\Users\\Mohd Naved\\sample.txt') as file:\n",
    "    line=file.readlines()\n",
    "    for i in line:\n",
    "        print(i)"
   ]
  },
  {
   "cell_type": "code",
   "execution_count": 13,
   "metadata": {},
   "outputs": [
    {
     "name": "stdout",
     "output_type": "stream",
     "text": [
      "hey naved how are you doing\n",
      "now this time what is your job location\n",
      "what is your job pacakge\n",
      "\n"
     ]
    }
   ],
   "source": [
    "#file.read() read the all data as a string from the file and store the a varible\n",
    "with open(r'C:\\Users\\Mohd Naved\\sample.txt') as file:\n",
    "    line=file.read()\n",
    "    print(line)"
   ]
  },
  {
   "cell_type": "code",
   "execution_count": 10,
   "metadata": {},
   "outputs": [],
   "source": [
    "'''# here we are studying the write operation in python\n",
    "#thre are two methode to perform the write operation in the file \n",
    "#1-with 'w' write mode(when we write the some content in the exist file at\n",
    "#contion the old data erase the in this methode)\n",
    "#2-with 'a+' append mode (this methode use add the data with the old data of \n",
    "#file)'''      ###1### methode\n",
    "            # A-simple write\n",
    "            #B-write  with the list\n",
    "with open('sample.txt','w') as file:\n",
    "    file.write(\"welcome to\\n\")\n",
    "    file.write(\"our online web series\\n\")\n",
    "    file.write(\"what do you want\\n\")"
   ]
  },
  {
   "cell_type": "code",
   "execution_count": 16,
   "metadata": {},
   "outputs": [
    {
     "name": "stdout",
     "output_type": "stream",
     "text": [
      "welcome to\n",
      "\n",
      "our online web series\n",
      "\n",
      "what do you want\n",
      "\n"
     ]
    }
   ],
   "source": [
    "with open(r'sample.txt') as file:\n",
    "    line=file.readline()\n",
    "    while line:\n",
    "        print(line)\n",
    "        line=file.readline()"
   ]
  },
  {
   "cell_type": "code",
   "execution_count": 29,
   "metadata": {},
   "outputs": [],
   "source": [
    "#B-write the list methode\n",
    "lists=['hello','naved','what do you want']\n",
    "with open('sample.txt','w') as file:\n",
    "    file.writelines('%s\\n' %l for l in lists)\n",
    "  "
   ]
  },
  {
   "cell_type": "code",
   "execution_count": 34,
   "metadata": {},
   "outputs": [
    {
     "name": "stdout",
     "output_type": "stream",
     "text": [
      "hello\n",
      "\n",
      "naved\n",
      "\n",
      "what do you want\n",
      "\n"
     ]
    }
   ],
   "source": [
    "with open(r'sample.txt') as file:\n",
    "    line=file.readline()\n",
    "    while line:\n",
    "        print(line)\n",
    "        line=file.readline()"
   ]
  },
  {
   "cell_type": "code",
   "execution_count": 43,
   "metadata": {},
   "outputs": [],
   "source": [
    "# Write operation with the append methoe in this methode old data does not erase\n",
    "lis=['what is your answer\\n','send me whatsapp number or email\\n','because I can next further execution ']\n",
    "a=open('sample.txt','a+')\n",
    "a.writelines(lis)"
   ]
  },
  {
   "cell_type": "code",
   "execution_count": 44,
   "metadata": {},
   "outputs": [
    {
     "name": "stdout",
     "output_type": "stream",
     "text": [
      "hello\n",
      "naved\n",
      "what do you want\n",
      "what is your answer\n",
      "send me whatsapp number or email\n",
      "because I can next further execution \n"
     ]
    }
   ],
   "source": [
    "with open('sample.txt','r') as file:\n",
    "    line=file.read()\n",
    "    print(line)"
   ]
  },
  {
   "cell_type": "code",
   "execution_count": null,
   "metadata": {},
   "outputs": [],
   "source": []
  }
 ],
 "metadata": {
  "kernelspec": {
   "display_name": "Python 3",
   "language": "python",
   "name": "python3"
  },
  "language_info": {
   "codemirror_mode": {
    "name": "ipython",
    "version": 3
   },
   "file_extension": ".py",
   "mimetype": "text/x-python",
   "name": "python",
   "nbconvert_exporter": "python",
   "pygments_lexer": "ipython3",
   "version": "3.7.4"
  }
 },
 "nbformat": 4,
 "nbformat_minor": 2
}
